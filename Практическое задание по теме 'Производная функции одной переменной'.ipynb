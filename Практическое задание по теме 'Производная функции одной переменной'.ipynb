{
 "cells": [
  {
   "cell_type": "markdown",
   "metadata": {},
   "source": [
    " ### Найти производную выражения:"
   ]
  },
  {
   "cell_type": "markdown",
   "metadata": {},
   "source": [
    "a. $$\\sin{x} \\cdot \\cos{x} = (\\sin{x})'\\cdot \\cos{x} + \\sin{x} \\cdot (\\cos{x})' = \\cos^2{x} - \\sin^2{x}$$\n",
    "\n",
    "b. $$\\ln{(2x + 1)^3} = (\\ln{(2x + 1)^3})' =  3\\ln{(2x + 1)^2}\\cdot \\ln{(2x + 1)}' \\cdot  {(2x + 1)}' = \\frac{6\\ln{(2x + 1)^2}}{2x + 1}$$\n",
    "\n",
    "c. $$\\sqrt{\\sin^2{(\\ln(x^3))}}= \\cos{|\\ln{(x^3)|}} \\cdot \\frac{1}{x^3} \\cdot 3x^2 = \\frac{3 \\cos{|\\ln{(x^3)|}}}{x}$$\n",
    "\n",
    "d. $$(\\frac{x^4}{\\ln{(x)}})' = \\frac{4x^3\\cdot \\ln{(x)} - x^4 \\frac{1}{x} }{\\ln^2{(x)}} =  \\frac{4x^3\\ln{(x)} - {x^3}}{\\ln^2{(x)}}$$\n"
   ]
  },
  {
   "cell_type": "markdown",
   "metadata": {},
   "source": [
    "### Найти выражение производной функции и ее значение в точке:"
   ]
  },
  {
   "cell_type": "markdown",
   "metadata": {},
   "source": [
    "$$f(x) = \\cos{(x^2 + 3x)}, x_0 = \\sqrt{\\pi}$$\n",
    "\n",
    "$$f'(x) = -\\sin{(x^2 + 3x)} \\cdot (2x +3)$$\n",
    "\n",
    "$$f'(\\sqrt{\\pi}) = -(2\\cdot\\sqrt{\\pi} +3)\\sin{((\\sqrt{\\pi})^2 + 3\\cdot \\sqrt{\\pi})} = -(2\\sqrt{\\pi} +3)\\cdot(\\sin{\\pi}\\cos{3\\sqrt{\\pi}} + \\cos{\\pi}\\sin{3\\sqrt{\\pi}}) = $$\n",
    "\n",
    "$$(2\\sqrt{\\pi} +3)\\sin{3\\sqrt{\\pi}} \\approx −5,38330241$$"
   ]
  },
  {
   "cell_type": "markdown",
   "metadata": {},
   "source": [
    "### Найти значение производной функции в точке:"
   ]
  },
  {
   "cell_type": "markdown",
   "metadata": {},
   "source": [
    "$$f(x)= \\frac{x^3 - x^2 - x - 1}{1 + 2x + 3x^2 - 4x^3}, x_0 = 0$$\n",
    "\n",
    "$$f'(x)= \\frac{(3x^2 - 2x - 1)(1 + 2x + 3x^2 - 4x^3)-(x^3 - x^2 - x - 1)(2 + 6x - 12x^2)}{(1 + 2x + 3x^2 - 4x^3)^2} = $$\n",
    "\n",
    "$$f'(x) = -\\frac{x^4 + 4x^3 +8x^2 -4x - 1}{(1 + 2x + 3x^2 - 4x^3)^2}$$\n",
    "\n",
    "$$f'(0) = -\\frac{- 1}{(1)^2} = 1$$"
   ]
  },
  {
   "cell_type": "markdown",
   "metadata": {},
   "source": [
    "### Найти угол наклона касательной к графику функции в точке:"
   ]
  },
  {
   "cell_type": "markdown",
   "metadata": {},
   "source": [
    "$$f(x) = \\sqrt{3x} \\cdot \\ln{x}, x_0 = 1$$\n",
    "\n",
    "$$f'(x) = \\sqrt{3x} \\cdot \\ln{x} = \\frac{1}{2\\sqrt{3x}} \\cdot3 \\ln{x} + \\sqrt{3x} \\cdot \\frac{1}{x} = \\frac{3x \\ln{x}}{2x\\sqrt{3x}} + \\frac{2\\sqrt{3x}\\cdot \\sqrt{3x}}{2x\\sqrt{3x}}= \\frac{x \\cdot \\left( 3\\ln\\left(x\\right)+ 6 \\right)}{2x\\sqrt{3x}}$$\n",
    "\n",
    "$$f'(1) = \\frac{x \\cdot \\left( 3\\ln\\left(x\\right)+ 6 \\right)}{2x\\sqrt{3x}} =\\sqrt{3}$$\n",
    "\n",
    "$$\\tan{\\sqrt{3}} = \\frac{\\pi}{3} = 60^\\circ$$"
   ]
  },
  {
   "cell_type": "code",
   "execution_count": null,
   "metadata": {},
   "outputs": [],
   "source": []
  }
 ],
 "metadata": {
  "kernelspec": {
   "display_name": "Python 3",
   "language": "python",
   "name": "python3"
  },
  "language_info": {
   "codemirror_mode": {
    "name": "ipython",
    "version": 3
   },
   "file_extension": ".py",
   "mimetype": "text/x-python",
   "name": "python",
   "nbconvert_exporter": "python",
   "pygments_lexer": "ipython3",
   "version": "3.7.6"
  },
  "toc": {
   "base_numbering": 1,
   "nav_menu": {},
   "number_sections": true,
   "sideBar": true,
   "skip_h1_title": false,
   "title_cell": "Table of Contents",
   "title_sidebar": "Contents",
   "toc_cell": false,
   "toc_position": {},
   "toc_section_display": true,
   "toc_window_display": false
  }
 },
 "nbformat": 4,
 "nbformat_minor": 4
}
