{
 "cells": [
  {
   "cell_type": "code",
   "execution_count": 1,
   "metadata": {},
   "outputs": [],
   "source": [
    "import matplotlib.pyplot as plt\n",
    "import numpy as np\n",
    "import warnings\n",
    "\n",
    "warnings.filterwarnings('ignore')"
   ]
  },
  {
   "cell_type": "markdown",
   "metadata": {},
   "source": [
    "### “Предел функции”"
   ]
  },
  {
   "cell_type": "markdown",
   "metadata": {},
   "source": [
    "#### Предложить пример функции, не имеющей предела в нуле и в бесконечностях."
   ]
  },
  {
   "cell_type": "markdown",
   "metadata": {},
   "source": [
    "$\\displaystyle \\lim_{x \\to \\infty} f(x) = \\frac{1}{x^2 + 1} + 1$"
   ]
  },
  {
   "cell_type": "markdown",
   "metadata": {},
   "source": [
    "#### Привести пример функции, не имеющей предела в точке, но определенной в ней."
   ]
  },
  {
   "cell_type": "markdown",
   "metadata": {},
   "source": [
    "$f(x) = sign(x)$"
   ]
  },
  {
   "cell_type": "markdown",
   "metadata": {},
   "source": [
    "#### Исследовать функцию $f(x) = x^3 - x^2$  по плану:"
   ]
  },
  {
   "cell_type": "code",
   "execution_count": 2,
   "metadata": {},
   "outputs": [],
   "source": [
    "def f(x):\n",
    "    return x**3 - x**2"
   ]
  },
  {
   "cell_type": "code",
   "execution_count": 3,
   "metadata": {},
   "outputs": [],
   "source": [
    "X = np.arange(-9, 10)"
   ]
  },
  {
   "cell_type": "code",
   "execution_count": 4,
   "metadata": {},
   "outputs": [
    {
     "data": {
      "text/plain": [
       "{-9: -810,\n",
       " -8: -576,\n",
       " -7: -392,\n",
       " -6: -252,\n",
       " -5: -150,\n",
       " -4: -80,\n",
       " -3: -36,\n",
       " -2: -12,\n",
       " -1: -2,\n",
       " 0: 0,\n",
       " 1: 0,\n",
       " 2: 4,\n",
       " 3: 18,\n",
       " 4: 48,\n",
       " 5: 100,\n",
       " 6: 180,\n",
       " 7: 294,\n",
       " 8: 448,\n",
       " 9: 648}"
      ]
     },
     "execution_count": 4,
     "metadata": {},
     "output_type": "execute_result"
    }
   ],
   "source": [
    "sequence = {x: f(x) for x in X}\n",
    "sequence"
   ]
  },
  {
   "cell_type": "code",
   "execution_count": 5,
   "metadata": {},
   "outputs": [],
   "source": [
    "def fraph(sequence):\n",
    "    \n",
    "    x = list(sequence.keys())\n",
    "    y = list(sequence.values())\n",
    "\n",
    "    ax = plt.gca()\n",
    "    ax.axhline(y=0, color='lightgray')    \n",
    "    ax.axvline(x=0, color='lightgray')\n",
    "\n",
    "    plt.plot(x, y)"
   ]
  },
  {
   "cell_type": "code",
   "execution_count": 6,
   "metadata": {},
   "outputs": [
    {
     "data": {
      "image/png": "[encoded data removed]",
      "text/plain": [
       "<Figure size 432x288 with 1 Axes>"
      ]
     },
     "metadata": {
      "needs_background": "light"
     },
     "output_type": "display_data"
    }
   ],
   "source": [
    "fraph(sequence)"
   ]
  },
  {
   "cell_type": "markdown",
   "metadata": {},
   "source": [
    "##### Область задания и область значений."
   ]
  },
  {
   "cell_type": "markdown",
   "metadata": {},
   "source": [
    "$D(f) = (-\\infty, +\\infty)$"
   ]
  },
  {
   "cell_type": "markdown",
   "metadata": {},
   "source": [
    "$R(f) = (-\\infty, +\\infty$)"
   ]
  },
  {
   "cell_type": "markdown",
   "metadata": {},
   "source": [
    "##### Нули функции и их кратность."
   ]
  },
  {
   "cell_type": "code",
   "execution_count": 7,
   "metadata": {},
   "outputs": [],
   "source": [
    "def zeros(sequence):\n",
    "    \n",
    "    zeros = [r for r in sequence.items() if r[1] == 0]\n",
    "\n",
    "    return (f'Нули функции f(x)=0 кратны {len(zeros)}м при:\\n'\n",
    "            f'\\t\\tx1 = {zeros[0][0]}\\n'\n",
    "            f'\\t\\tx2 = {zeros[1][0]}')"
   ]
  },
  {
   "cell_type": "code",
   "execution_count": 8,
   "metadata": {},
   "outputs": [
    {
     "name": "stdout",
     "output_type": "stream",
     "text": [
      "Нули функции f(x)=0 кратны 2м при:\n",
      "\t\tx1 = 0\n",
      "\t\tx2 = 1\n"
     ]
    }
   ],
   "source": [
    "print(zeros(sequence))"
   ]
  },
  {
   "cell_type": "markdown",
   "metadata": {},
   "source": [
    "##### Отрезки знакопостоянства."
   ]
  },
  {
   "cell_type": "markdown",
   "metadata": {},
   "source": [
    "$f(x) = ((-\\infty; -1], [2; +\\infty))$"
   ]
  },
  {
   "cell_type": "code",
   "execution_count": 9,
   "metadata": {},
   "outputs": [],
   "source": [
    "def constancy(sequence):\n",
    "    \n",
    "    constancy = max(r for r in sequence.items() if r[1] < 0), min(r for r in sequence.items() if r[1] > 0)\n",
    "    \n",
    "    return f'Отрезки знакопостоянства при: x <= {constancy[0][0]} или x >= {constancy[1][0]}'"
   ]
  },
  {
   "cell_type": "code",
   "execution_count": 10,
   "metadata": {},
   "outputs": [
    {
     "data": {
      "text/plain": [
       "'Отрезки знакопостоянства при: x <= -1 или x >= 2'"
      ]
     },
     "execution_count": 10,
     "metadata": {},
     "output_type": "execute_result"
    }
   ],
   "source": [
    "constancy(sequence)"
   ]
  },
  {
   "cell_type": "markdown",
   "metadata": {},
   "source": [
    "$f(x) \\neq 0 : x = (-\\infty; -1], [2; +\\infty)$"
   ]
  },
  {
   "cell_type": "markdown",
   "metadata": {},
   "source": [
    "##### Интервалы монотонности."
   ]
  },
  {
   "cell_type": "code",
   "execution_count": 11,
   "metadata": {},
   "outputs": [],
   "source": [
    "def monotone(sequence):\n",
    "\n",
    "    result_list = list(sequence.items())\n",
    "    \n",
    "    for n in range(len(result_list)-1):\n",
    "        if result_list[n][1] < result_list[n+1][1]:\n",
    "            return 'Возрастает'\n",
    "        elif result_list[n][1] > result_list[n+1][1]:\n",
    "            return 'Убывает'\n",
    "        else: # result_list[n][1] == result_list[n+1][1]:\n",
    "            return 'Стационарная'"
   ]
  },
  {
   "cell_type": "code",
   "execution_count": 12,
   "metadata": {},
   "outputs": [
    {
     "data": {
      "text/plain": [
       "'Возрастает'"
      ]
     },
     "execution_count": 12,
     "metadata": {},
     "output_type": "execute_result"
    }
   ],
   "source": [
    "monotone(sequence)"
   ]
  },
  {
   "cell_type": "markdown",
   "metadata": {},
   "source": [
    "##### Четность функции."
   ]
  },
  {
   "cell_type": "code",
   "execution_count": 13,
   "metadata": {},
   "outputs": [],
   "source": [
    "def parity(sequence):\n",
    "    \n",
    "    least = min(sequence.keys())\n",
    "    greatest = max(sequence.keys())\n",
    "    \n",
    "    return 'Четное' if sequence[least] == sequence[greatest] else 'Не четная'"
   ]
  },
  {
   "cell_type": "code",
   "execution_count": 14,
   "metadata": {},
   "outputs": [
    {
     "data": {
      "text/plain": [
       "'Не четная'"
      ]
     },
     "execution_count": 14,
     "metadata": {},
     "output_type": "execute_result"
    }
   ],
   "source": [
    "parity(sequence)"
   ]
  },
  {
   "cell_type": "markdown",
   "metadata": {},
   "source": [
    "##### Ограниченность."
   ]
  },
  {
   "cell_type": "code",
   "execution_count": 15,
   "metadata": {},
   "outputs": [],
   "source": [
    "def limitation(sequence):\n",
    "    \n",
    "    quantity = len(sequence)\n",
    "    least, greatest = min(range(quantity)), max(range(quantity))\n",
    "    values = list(sequence.values())\n",
    "    \n",
    "    if (min(values) == values[least]) and (max(values) == values[greatest]):\n",
    "        return 'Не ограничена сверху и снизу'\n",
    "    elif min(values) == values[least]:\n",
    "        return 'Не ограничена снизу'\n",
    "    elif max(values) == values[greatest]:\n",
    "        return 'Не ограничена сверху'\n",
    "    else:\n",
    "        return 'Ограничена сверху и снизу'"
   ]
  },
  {
   "cell_type": "code",
   "execution_count": 16,
   "metadata": {},
   "outputs": [
    {
     "data": {
      "text/plain": [
       "'Не ограничена сверху и снизу'"
      ]
     },
     "execution_count": 16,
     "metadata": {},
     "output_type": "execute_result"
    }
   ],
   "source": [
    "limitation(sequence)"
   ]
  },
  {
   "cell_type": "markdown",
   "metadata": {},
   "source": [
    "##### Периодичность."
   ]
  },
  {
   "cell_type": "code",
   "execution_count": 17,
   "metadata": {},
   "outputs": [],
   "source": [
    "def periodicity(sequence):\n",
    "    \n",
    "    values = list(sequence.values())\n",
    "    quantity = len(sequence)\n",
    "    \n",
    "    for n in range(quantity):\n",
    "        val, next_val = values[n], values[n+1]\n",
    "        count = values.count(val)\n",
    "        \n",
    "        return 'Периодична' if count > 1 and (val != next_val) else 'Не периодична'"
   ]
  },
  {
   "cell_type": "code",
   "execution_count": 18,
   "metadata": {},
   "outputs": [
    {
     "data": {
      "text/plain": [
       "'Не периодична'"
      ]
     },
     "execution_count": 18,
     "metadata": {},
     "output_type": "execute_result"
    }
   ],
   "source": [
    "periodicity(sequence)"
   ]
  },
  {
   "cell_type": "markdown",
   "metadata": {},
   "source": [
    "#### Найти предел:"
   ]
  },
  {
   "cell_type": "markdown",
   "metadata": {},
   "source": [
    "$a. \\displaystyle \\lim_{x \\to 0} \\frac{3x^3 - 2x^2}{4x^2} = \\frac{x^2(3x - 2)}{4x^2} = \\frac{3x-2}{4} = -\\frac{1}{2}$"
   ]
  },
  {
   "cell_type": "markdown",
   "metadata": {},
   "source": [
    "$b. \\star \\displaystyle \\lim_{x\\to0} \\frac{\\sqrt{1+x} - 1}{\\sqrt[3]{1+x} - 1} = \\frac{\\sqrt{1} - 1}{\\sqrt[3]{1} - 1} = \\frac{0}{0} = 1$"
   ]
  },
  {
   "cell_type": "markdown",
   "metadata": {},
   "source": [
    "$c. \\star \\displaystyle \\lim_{x\\to\\infty} \\left( \\frac{x+3}{x} \\right)^{4x+1} = \\left( \\frac{\\infty+3}{\\infty} \\right)^\\infty = \\infty$"
   ]
  },
  {
   "cell_type": "markdown",
   "metadata": {},
   "source": [
    "### Тема “Теоремы о пределах”"
   ]
  },
  {
   "cell_type": "markdown",
   "metadata": {},
   "source": [
    "$a. \\displaystyle \\lim_{x\\to 0} \\frac{\\sin(2x)}{4x} = 0,5$"
   ]
  },
  {
   "cell_type": "markdown",
   "metadata": {},
   "source": [
    "$b. \\displaystyle \\lim_{x\\to0} \\frac{x}{\\sin(x)} = 1$"
   ]
  },
  {
   "cell_type": "markdown",
   "metadata": {},
   "source": [
    "$c. \\displaystyle \\lim_{x\\to0} \\frac{x}{\\arcsin(x)} = |t=\\sin(x)| = \\displaystyle \\lim_{x\\to0} \\frac{\\sin(t)}{t} = \\displaystyle \\lim_{x\\to0} \\frac{\\frac{\\sin(t)}{t}}{1} = \\frac{1}{1} = 1$"
   ]
  },
  {
   "cell_type": "markdown",
   "metadata": {},
   "source": [
    "$d. \\displaystyle \\lim_{x\\to\\infty} \\left( \\frac{4x+3}{4x-3} \\right)^{6x} = -1^{6x} = 1$"
   ]
  },
  {
   "cell_type": "markdown",
   "metadata": {},
   "source": [
    "$e. \\star \\displaystyle \\lim_{x\\to\\infty} \\frac{\\sin x + \\ln x}{x} = $"
   ]
  },
  {
   "cell_type": "markdown",
   "metadata": {},
   "source": [
    "$f. \\star \\displaystyle \\lim_{x\\to0} \\frac{\\sin(x) + \\ln(x)}{x} = \\frac{\\sin x}{x} + \\frac{\\ln x}{x} = 1 + 1 = 2$"
   ]
  }
 ],
 "metadata": {
  "kernelspec": {
   "display_name": "Python 3",
   "language": "python",
   "name": "python3"
  },
  "language_info": {
   "codemirror_mode": {
    "name": "ipython",
    "version": 3
   },
   "file_extension": ".py",
   "mimetype": "text/x-python",
   "name": "python",
   "nbconvert_exporter": "python",
   "pygments_lexer": "ipython3",
   "version": "3.7.6"
  },
  "toc": {
   "base_numbering": 1,
   "nav_menu": {},
   "number_sections": true,
   "sideBar": true,
   "skip_h1_title": false,
   "title_cell": "Table of Contents",
   "title_sidebar": "Contents",
   "toc_cell": false,
   "toc_position": {},
   "toc_section_display": true,
   "toc_window_display": false
  }
 },
 "nbformat": 4,
 "nbformat_minor": 2
}
