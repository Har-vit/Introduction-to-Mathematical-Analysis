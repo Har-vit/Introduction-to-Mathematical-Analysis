{
 "cells": [
  {
   "cell_type": "markdown",
   "metadata": {},
   "source": [
    "\n",
    "### Найти область определения функции.\n",
    "\n",
    "$$z =  \\sqrt{1 - x^3} + \\ln \\left(y^2 - 1\\right)$$\n",
    "\n",
    "$$\n",
    "1-x^3 \\geq 0 \\\\\n",
    "1 \\geq x^3 \\\\\n",
    "x \\leq 1;$$\n",
    "\n",
    "$$y^2-1 > 0 \\\\\n",
    "y^2 > 1 \\\\\n",
    "y_1 > 1, y_2 < -1$$  \n",
    "\n",
    "\n",
    "$${(x, y) \\in R^2 : (y>1  \\&  x<=1) \\parallel (y<-1  \\&  x<=1)}$$\n",
    "\n"
   ]
  },
  {
   "cell_type": "markdown",
   "metadata": {},
   "source": [
    "### Найти производные 1-го порядка функции.\n",
    "\n",
    "$$z = \\left(1+\\frac{\\ln\\left(x\\right)} {\\ln\\left(y\\right)}\\right) ^3$$\n",
    "\n",
    "$$\\frac{dz}{dx}=\\left({\\left(1+ \\frac{\\ln\\left(x\\right)}{\\ln\\left(y\\right)}\\right)^3}\\right) = \\frac{3 \\left(\\ln\\left(x\\right) + \\ln\\left(y\\right)\\right)^2}{x \\ln^3\\left(y\\right)}$$\n",
    "\n",
    "$$\\frac{dz}{dy}=\\left({\\left(1+ \\frac{\\ln\\left(x\\right)}{\\ln\\left(y\\right)}\\right)^3}\\right) = 3\\bullet\\left(\\frac{ \\ln\\left(x\\right) + \\ln\\left(y\\right)}{\\ln\\left(y\\right)}\\right)^2 \\bullet \\frac{\\frac{1}{y}\\bullet \\ln\\left(y\\right)-\\left(\\ln\\left(y\\right)+\\ln\\left(x\\right)\\right)\\bullet\\frac{1}{y}}{\\ln\\left(y\\right)^2}= \\frac{3 \\left(\\ln\\left(x\\right) + \\ln\\left(y\\right)\\right)^2}{x \\ln^3\\left(y\\right)}$$\n",
    "\n"
   ]
  },
  {
   "cell_type": "markdown",
   "metadata": {},
   "source": [
    "### Найти полный дифференциал функции в точке (1;1).\n",
    "$$z = \\sqrt{2xy+\\cos{\\frac {x}{y}}}\\\\\n",
    "dz = \\frac{\\partial z}{\\partial x} dx + \\frac{\\partial z}{\\partial y} dy \\\\\n",
    "\\frac{\\partial z}{\\partial x} = \\frac {1}{2} \\frac {(2y-sin(\\frac {x}{y}))}{\\sqrt {2xy+\\cos{\\frac {x}{y}}}}\\frac {1}{y} = \\frac {y-\\frac{sin\\frac{x}{y}}{2y}}{\\sqrt {2xy+\\cos{\\frac {x}{y}}}} \\\\\n",
    "\\frac{\\partial z}{\\partial y} = \\frac {1}{2} \\frac {(2x-sin(\\frac {x}{y}))}{\\sqrt {2xy+\\cos{\\frac {x}{y}}}}\\frac {-x}{y^2} = \\frac {x+\\frac{xsin\\frac{x}{y}}{2y^2}}{\\sqrt {2xy+\\cos{\\frac {x}{y}}}} \\\\\n",
    "dz (1;1) = \\frac {1-\\frac{sin 1}{2}}{\\sqrt {2+\\cos 1}} dx + \\frac {1+\\frac{sin 1}{2}}{\\sqrt {2+\\cos1}}  dy $$"
   ]
  },
  {
   "cell_type": "markdown",
   "metadata": {},
   "source": [
    "### Исследовать на экстремум функцию\n",
    "$$z = x^2 +xy + y^2 - 6x -9y \\\\\n",
    "\\frac{\\partial z}{\\partial x} = 2x+y-6\\\\\n",
    "\\frac{\\partial z}{\\partial y} = x+2y-9 \\\\\n",
    "\\begin{equation*}\n",
    " \\begin{cases}\n",
    "   2x+y-6 = 0 \n",
    "   \\\\\n",
    "   x+2y-9 = 0\n",
    " \\end{cases}\n",
    "\\end{equation*}\n",
    "\\\\\n",
    "x = -2y+9 \\\\\n",
    "2(-2y+9)-6+y = 0 \\\\\n",
    "y = 4 \\\\\n",
    "x = 1 \\\\\n",
    "z = -21 \\\\\n",
    "\\Delta \\begin{bmatrix}\n",
    "z_{xx}^{\\prime\\prime} & z_{xy}^{\\prime\\prime}\\\\\n",
    "z_{yx}^{\\prime\\prime} & z_{yy}^{\\prime\\prime}\n",
    "\\end{bmatrix} = \\Delta \\begin{bmatrix}\n",
    "2 & 1\\\\\n",
    "1 & 2\n",
    "\\end{bmatrix} = 3 > 0\n",
    "$$\n",
    "\n",
    "\n",
    "Минимум в точке (1; 4; -21)"
   ]
  },
  {
   "cell_type": "code",
   "execution_count": null,
   "metadata": {},
   "outputs": [],
   "source": []
  }
 ],
 "metadata": {
  "kernelspec": {
   "display_name": "Python 3",
   "language": "python",
   "name": "python3"
  },
  "language_info": {
   "codemirror_mode": {
    "name": "ipython",
    "version": 3
   },
   "file_extension": ".py",
   "mimetype": "text/x-python",
   "name": "python",
   "nbconvert_exporter": "python",
   "pygments_lexer": "ipython3",
   "version": "3.7.6"
  },
  "toc": {
   "base_numbering": 1,
   "nav_menu": {},
   "number_sections": true,
   "sideBar": true,
   "skip_h1_title": false,
   "title_cell": "Table of Contents",
   "title_sidebar": "Contents",
   "toc_cell": false,
   "toc_position": {},
   "toc_section_display": true,
   "toc_window_display": false
  }
 },
 "nbformat": 4,
 "nbformat_minor": 4
}
