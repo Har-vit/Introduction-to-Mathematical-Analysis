{
 "cells": [
  {
   "cell_type": "markdown",
   "metadata": {},
   "source": [
    "## “Ряды”"
   ]
  },
  {
   "cell_type": "markdown",
   "metadata": {},
   "source": [
    "### Исследовать ряд на сходимость, используя признак д’Аламбера:\n",
    "$\\displaystyle \\sum_{n=1}^{\\infty} \\frac{n^n}{(n!)^2}$\n",
    "\n",
    "$\\displaystyle \\lim_{n \\to \\infty} \\frac{a_{n + 1}}{a_n} = \\displaystyle \\lim_{n \\to \\infty} \\frac{(n + 1)^{n + 1}}{((n + 1)!)^2} : \\frac{n^n}{(n!)^2} = \\displaystyle \\lim_{n \\to \\infty} \\frac{(n +1)^{n + 1}}{(n + 1)^2 \\cdot n^n} = \\displaystyle \\lim_{n \\to \\infty} \\frac{\\left (\\frac{n +1}{n}\\right)^n}{n + 1} = \\displaystyle \\lim_{n \\to \\infty} \\frac{e}{n + 1} = 0 < 1$\n",
    "\n",
    "### Исследовать ряд на сходимость, используя радикальный признак Коши:\n",
    "$\\displaystyle \\sum_{n=1}^{\\infty} \\frac{n}{2^n}$\n",
    "\n",
    "$\\displaystyle \\lim_{n \\to \\infty} \\sqrt[n]{a_n} = \\displaystyle \\lim_{n \\to \\infty} \\sqrt[n]{\\frac{n}{2^n}} =\\displaystyle \\lim_{n \\to \\infty} \\frac{\\sqrt[n]{n}}{2} = \\frac{1}{2} < 1$\n",
    "$\\displaystyle \\lim_{n \\to \\infty} \\frac{a_{n + 1}}{a_n} = \\displaystyle \\lim_{n \\to \\infty} \\frac{n + 1}{2^{n + 1}} : \\frac{n}{2^n} = \\displaystyle \\lim_{n \\to \\infty} \\frac{n + 1}{2n} = \\frac{1}{2} <1$\n",
    "\n",
    "### Исследовать ряд на сходимость, используя признак Лейбница:\n",
    "$\\displaystyle \\sum_{n=1}^{\\infty} \\frac{(-1)^n}{n + \\ln{n}}$\n",
    "\n",
    "$\\begin{cases} \\displaystyle \\lim_{n \\to \\infty} |a_n| = 0 \\ |a_{n + 1}| < |a_n| \\ \\displaystyle \\sum_{n=1}^{\\infty} \\frac{1}{n + \\ln{n}} \\sim 0 \\left( \\frac{1}{n^1} \\right) \\end{cases}$\n",
    "\n",
    "$\\displaystyle \\sum_{n=1}^{\\infty} \\frac{(-1)^n}{n + \\ln{n}} \\text{− сходится условно}$\n",
    "\n",
    "\n",
    "### Исследовать ряд на сходимость, используя признак Раабе:\n",
    "$\\displaystyle \\sum_{n=1}^{\\infty} \\frac{3^n}{2^n}$\n",
    "\n",
    "$\\displaystyle \\lim_{n \\to \\infty} n \\left( \\frac{a_n}{a_{n + 1}} - 1 \\right) = \\displaystyle \\lim_{n \\to \\infty} n \\left( \\frac{3^n}{2^n} : \\frac{3^{n + 1}}{2^{n + 1}} - 1 \\right) = \\displaystyle \\lim_{n \\to \\infty} n \\left( - \\frac{1}{3} \\right) = -\\infty < 1$\n",
    "$\\displaystyle \\lim_{n \\to \\infty} \\frac{a_{n + 1}}{a_n} = \\displaystyle \\lim_{n \\to \\infty} \\frac{3^{n + 1}}{2^{n + 1}} : \\frac{3^n}{2^n} = \\frac{3}{2} > 1$\n"
   ]
  },
  {
   "cell_type": "markdown",
   "metadata": {},
   "source": [
    "### Разложить функцию по Тейлору в единице:\n",
    "\n",
    "$f(x) = \\ln{(16x^2)}$\n",
    "\n",
    "$\\ln{(16x^2)} = \\frac{\\ln{16}}{0!}(x - 1)^0 + \\frac{2}{1!}(x - 2)^1 - \\frac{2}{2!}(x - 1)^2 + \\frac{2 \\cdot 2}{3!}(x - 1)^3 - \\frac{2 \\cdot 3!}{4!}(x - 1)^4 +\\cdots = \\ln{16} + 2 \\displaystyle \\sum_{n=1}^{\\infty} (-1)^{n - 1} \\frac{(x - 1)^n}{n}$\n",
    "\n",
    "$(\\ln{(16x^2)})' = \\frac{2}{x}$\n",
    "$(\\ln{(16x^2)})'' = - \\frac{2}{x^2}$\n",
    "$(\\ln{(16x^2)})''' = \\frac{2 \\cdot 2}{x^3}$\n",
    "$(\\ln{(16x^2)})^{IV} = - \\frac{2 \\cdot 2 \\cdot 3}{x^4}$"
   ]
  },
  {
   "cell_type": "markdown",
   "metadata": {},
   "source": [
    "## “Понятие об интеграле”\n"
   ]
  },
  {
   "cell_type": "markdown",
   "metadata": {},
   "source": [
    "### Найти неопределенный интеграл: \n",
    "\n",
    "$\\int(2x^2 - 2x -1 + \\sin{x} - \\cos{x} + \\ln{x} + e^x)dx $\n",
    "\n",
    "\n",
    "$F(x)= \\frac{2}{3}x^3 - x^2 - x - \\cos{x} - \\sin{x} + x\\ln(x) - x + e^x + C$\n",
    "\n",
    "### Найти неопределенный интеграл: \n",
    "$\\int(2x + 6xz^2 - 5x^2y - 3 \\ln{z})dx$\n",
    "\n",
    "$\n",
    "F(x) = x^2 + 3x^2z^2 - \\frac{5}{3}x^3y - 3x\\ln{z} + C\n",
    "$\n",
    "\n",
    "### Вычислить определенный интеграл\n",
    "$ \\int_{0}^{\\pi} 3x^2 \\sin{(2x)dx}$ \n",
    "\n",
    "$  3(\\int x^2 \\sin{(2x)dx})  = \n",
    "\\begin{vmatrix}\n",
    "u = x^2 \\\\ \n",
    "du = 2xdx\\\\ \n",
    "dv = \\sin{(2x)}dx\\\\ \n",
    "v = \\int\\sin{(2x)dx} = -\\frac{cos(2x)}{2}\n",
    "\\end{vmatrix}\n",
    "= uv - \\int v du \n",
    "= 3(-\\frac{\\cos{(2x)}x^2}{2} - \\int \\frac{-\\cos{(2x)}}{2}2xdx) = 3(\\int \\cos{(2x)}xdx - \\frac{\\cos{(2x)}x^2}{2})\n",
    "$\n",
    "\n",
    "$\n",
    "\\int x \\cos{(2x)}dx = \n",
    "\\begin{vmatrix}\n",
    "u = x \\\\ \n",
    "du = dx\\\\ \n",
    "dv = \\cos{(2x)}dx\\\\ \n",
    "v = \\int\\cos{(2x)dx} = \\frac{\\sin(2x)}{2}\n",
    "\\end{vmatrix}\n",
    "= uv - \\int v du \n",
    "= x\\frac{\\sin(2x)}{2} - \\int \\frac{\\sin(2x)}{2} dx = x\\frac{\\sin(2x)}{2} + \\frac{\\cos{(2x)}}{4} + C$ =>\n",
    "\n",
    "$\n",
    "=>\n",
    "\\int_{0}^{\\pi} 3x^2 \\sin{(2x)dx} =\n",
    "3(\\int \\cos{(2x)}xdx - \\frac{\\cos{(2x)}x^2}{2}) =\n",
    "3(x \\frac{\\sin{(2x)}}{2} + \\frac{\\cos{(2x)}}{4} - \\frac{\\cos{(2x)}x^2}{2})|^{\\pi}_{0} = \n",
    "3(0 + \\frac{1}{4} - \\frac{\\pi^2}{2}) - 3(0+0+ \\frac{1}{4}) = - \\frac{3}{2}\\pi^2\n",
    "$\n",
    "\n",
    "### Найти неопределенный интеграл: \n",
    "$ \\int \\frac{1}{\\sqrt{x+1}}dx $\n",
    "\n",
    "$\n",
    "F(x) = \\int \\frac{1}{\\sqrt{x+1}}dx = \\int (x+1)^{-\\frac{1}{2}}dx =  \\int (x+1)^{-\\frac{1}{2}}d(x+1) = \n",
    "2(x+1)^{\\frac{1}{2}} + C\n",
    "$"
   ]
  },
  {
   "cell_type": "code",
   "execution_count": null,
   "metadata": {},
   "outputs": [],
   "source": []
  }
 ],
 "metadata": {
  "kernelspec": {
   "display_name": "Python 3",
   "language": "python",
   "name": "python3"
  },
  "language_info": {
   "codemirror_mode": {
    "name": "ipython",
    "version": 3
   },
   "file_extension": ".py",
   "mimetype": "text/x-python",
   "name": "python",
   "nbconvert_exporter": "python",
   "pygments_lexer": "ipython3",
   "version": "3.7.6"
  },
  "toc": {
   "base_numbering": 1,
   "nav_menu": {},
   "number_sections": true,
   "sideBar": true,
   "skip_h1_title": false,
   "title_cell": "Table of Contents",
   "title_sidebar": "Contents",
   "toc_cell": false,
   "toc_position": {},
   "toc_section_display": true,
   "toc_window_display": false
  }
 },
 "nbformat": 4,
 "nbformat_minor": 4
}
